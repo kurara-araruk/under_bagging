{
 "cells": [
  {
   "cell_type": "code",
   "execution_count": 2,
   "metadata": {},
   "outputs": [],
   "source": [
    "from models import BootstrapModel\n",
    "import pandas as pd\n",
    "import numpy as np\n",
    "\n",
    "from sklearn.preprocessing import StandardScaler\n",
    "from sklearn.svm import SVC\n",
    "from sklearn.metrics import roc_auc_score\n",
    "from sklearn.linear_model import LogisticRegression\n",
    "from sklearn.neighbors import KNeighborsClassifier\n",
    "\n",
    "from skopt.space import Real, Categorical, Integer\n",
    "\n",
    "from xgboost import XGBClassifier\n",
    "\n",
    "import joblib"
   ]
  },
  {
   "cell_type": "code",
   "execution_count": 3,
   "metadata": {},
   "outputs": [],
   "source": [
    "train = pd.read_csv(\"../data/train.csv\")\n",
    "test = pd.read_csv(\"../data/test.csv\")"
   ]
  },
  {
   "cell_type": "code",
   "execution_count": null,
   "metadata": {},
   "outputs": [],
   "source": [
    "y_train = train[\"ProdTaken\"].astype(float)\n",
    "\n",
    "x_train = train.drop(columns=[\"ProdTaken\"], axis=1)"
   ]
  },
  {
   "cell_type": "code",
   "execution_count": 5,
   "metadata": {},
   "outputs": [],
   "source": [
    "# 前処理\n",
    "\n",
    "# train_test_split は BootstrapModelクラス内で実行されるからいらない。"
   ]
  },
  {
   "cell_type": "code",
   "execution_count": null,
   "metadata": {},
   "outputs": [],
   "source": [
    "x_train = x_train.to_numpy()\n",
    "y_train = y_train.to_numpy()\n",
    "test = test.to_numpy()"
   ]
  },
  {
   "cell_type": "markdown",
   "metadata": {},
   "source": [
    "# モデル訓練"
   ]
  },
  {
   "cell_type": "code",
   "execution_count": null,
   "metadata": {},
   "outputs": [],
   "source": [
    "svm = BootstrapModel(x_train, y_train, StandardScaler(), SVC(kernel='rbf', probability=True), roc_auc_score, random_state=42)\n",
    "\n",
    "svm.samples(10, 100, 1)\n",
    "\n",
    "search_spaces = {\n",
    "    'svc__C': Real(10**(-3), 10**4, prior='log-uniform'),\n",
    "    'svc__gamma': Real(10**(-3), 10**4, prior='log-uniform')\n",
    "}\n",
    "\n",
    "svm.train(search_spaces, 5, 50)\n",
    "\n",
    "svm.val_pred(10)"
   ]
  },
  {
   "cell_type": "markdown",
   "metadata": {},
   "source": [
    " .samples / .val_pred の引数(パラメータ)の探索したときは、 .record でパラメータとaucスコアの記録をしてくれる。 \\\n",
    " 連続で使用しても、上書きされずに追加で書かれる。"
   ]
  },
  {
   "cell_type": "code",
   "execution_count": null,
   "metadata": {},
   "outputs": [],
   "source": [
    "logistic = BootstrapModel(x_train, y_train, StandardScaler(), LogisticRegression(solver='liblinear'), roc_auc_score, random_state=42)\n",
    "\n",
    "logistic.samples(10, 100, 1)\n",
    "\n",
    "search_spaces = {\n",
    "    'logisticregression__penalty': Categorical(['l1', 'l2']),\n",
    "    'logisticregression__C': Real(10**(-4), 10**4, prior='log-uniform')\n",
    "}\n",
    "\n",
    "logistic.train(search_spaces, 5, 50)\n",
    "\n",
    "logistic.val_pred(10)"
   ]
  },
  {
   "cell_type": "code",
   "execution_count": null,
   "metadata": {},
   "outputs": [],
   "source": [
    "knn = BootstrapModel(x_train, y_train, StandardScaler(), KNeighborsClassifier(), roc_auc_score, random_state=42)\n",
    "\n",
    "knn.samples(10, 100, 1)\n",
    "\n",
    "search_spaces = {\n",
    "    'kneighborsclassifier__n_neighbors': Real(1, 50, prior='uniform'),\n",
    "    'kneighborsclassifier__weights': Categorical(['uniform', 'distance'])\n",
    "}\n",
    "\n",
    "knn.train(search_spaces, 5, 50)\n",
    "\n",
    "knn.val_pred(10)"
   ]
  },
  {
   "cell_type": "code",
   "execution_count": null,
   "metadata": {},
   "outputs": [],
   "source": [
    "xgb = BootstrapModel(x_train, y_train, StandardScaler(), XGBClassifier(), roc_auc_score, random_state=42)\n",
    "\n",
    "xgb.samples(10, 100, 1)\n",
    "\n",
    "search_spaces = {\n",
    "    'xgbclassifier__n_estimators': Integer(10, 200),  # 整数で指定\n",
    "    'xgbclassifier__learning_rate': Real(10**(-4), 10**0, prior='log-uniform'),\n",
    "    'xgbclassifier__max_depth': Integer(1, 10)  # 整数で指定\n",
    "}\n",
    "\n",
    "xgb.train(search_spaces, 5, 50)\n",
    "\n",
    "xgb.val_pred(10)"
   ]
  },
  {
   "cell_type": "markdown",
   "metadata": {},
   "source": [
    "# モデル保存"
   ]
  },
  {
   "cell_type": "code",
   "execution_count": null,
   "metadata": {},
   "outputs": [],
   "source": [
    "# モデルを保存する\n",
    "model_name = svm.record_file_name\n",
    "train_start_time = svm.current_time\n",
    "\n",
    "model_save_path = f'../model_save/{model_name}_{train_start_time}.pkl'\n",
    "joblib.dump(svm.bstrap_models_dict, model_save_path)"
   ]
  },
  {
   "cell_type": "code",
   "execution_count": null,
   "metadata": {},
   "outputs": [],
   "source": [
    "model_name = logistic.record_file_name\n",
    "train_start_time = logistic.current_time\n",
    "\n",
    "model_save_path = f'../model_save/{model_name}_{train_start_time}.pkl'\n",
    "joblib.dump(logistic.bstrap_models_dict, model_save_path)"
   ]
  },
  {
   "cell_type": "code",
   "execution_count": null,
   "metadata": {},
   "outputs": [],
   "source": [
    "model_name = knn.record_file_name\n",
    "train_start_time = knn.current_time\n",
    "\n",
    "model_save_path = f'../model_save/{model_name}_{train_start_time}.pkl'\n",
    "joblib.dump(knn.bstrap_models_dict, model_save_path)"
   ]
  },
  {
   "cell_type": "code",
   "execution_count": null,
   "metadata": {},
   "outputs": [],
   "source": [
    "model_name = xgb.record_file_name\n",
    "train_start_time = xgb.current_time\n",
    "\n",
    "model_save_path = f'../model_save/{model_name}_{train_start_time}.pkl'\n",
    "joblib.dump(xgb.bstrap_models_dict, model_save_path)"
   ]
  },
  {
   "cell_type": "code",
   "execution_count": null,
   "metadata": {},
   "outputs": [],
   "source": []
  }
 ],
 "metadata": {
  "kernelspec": {
   "display_name": "myenv",
   "language": "python",
   "name": "python3"
  },
  "language_info": {
   "codemirror_mode": {
    "name": "ipython",
    "version": 3
   },
   "file_extension": ".py",
   "mimetype": "text/x-python",
   "name": "python",
   "nbconvert_exporter": "python",
   "pygments_lexer": "ipython3",
   "version": "3.12.4"
  }
 },
 "nbformat": 4,
 "nbformat_minor": 2
}
