{
 "cells": [
  {
   "cell_type": "code",
   "execution_count": null,
   "metadata": {},
   "outputs": [],
   "source": [
    "from models import BootstrapModel\n",
    "import pandas as pd\n",
    "import numpy as np\n",
    "import os\n",
    "\n",
    "import my_functions as mf\n",
    "from sklearn.preprocessing import StandardScaler\n",
    "from sklearn.svm import SVC\n",
    "from sklearn.metrics import roc_auc_score\n",
    "from sklearn.linear_model import LogisticRegression\n",
    "from sklearn.neighbors import KNeighborsClassifier\n",
    "\n",
    "from skopt.space import Real, Categorical, Integer\n",
    "\n",
    "from xgboost import XGBClassifier\n",
    "\n",
    "import joblib"
   ]
  },
  {
   "cell_type": "code",
   "execution_count": null,
   "metadata": {},
   "outputs": [],
   "source": [
    "train = pd.read_csv(\"../data/train.csv\")\n",
    "test = pd.read_csv(\"../data/test.csv\")"
   ]
  },
  {
   "cell_type": "code",
   "execution_count": null,
   "metadata": {},
   "outputs": [],
   "source": [
    "y_train = train[\"ProdTaken\"].astype(float)\n",
    "\n",
    "x_train = train.drop(columns=[\"ProdTaken\"], axis=1)"
   ]
  },
  {
   "cell_type": "code",
   "execution_count": null,
   "metadata": {},
   "outputs": [],
   "source": [
    "# 前処理\n",
    "\n",
    "# train_test_split は BootstrapModelクラス内で実行されるからいらない。\n",
    "# スケーラーもいらない"
   ]
  },
  {
   "cell_type": "code",
   "execution_count": null,
   "metadata": {},
   "outputs": [],
   "source": [
    "x_train = x_train.to_numpy()\n",
    "y_train = y_train.to_numpy()\n",
    "test = test.to_numpy()"
   ]
  },
  {
   "cell_type": "markdown",
   "metadata": {},
   "source": [
    "# 推論"
   ]
  },
  {
   "cell_type": "markdown",
   "metadata": {},
   "source": [
    "* モデルの名前を変更する！ \\\n",
    "* しっかりと .test_pred の第二引数を設定する。（.val_pred の引数と一緒でいい）"
   ]
  },
  {
   "cell_type": "code",
   "execution_count": null,
   "metadata": {},
   "outputs": [],
   "source": [
    "svm = BootstrapModel(x_train, y_train, StandardScaler(), SVC(kernel='rbf', probability=True), roc_auc_score)\n",
    "\n",
    "model_save_path = '../model_save/.pkl'\n",
    "svm.bstrap_models_dict = joblib.load(model_save_path)\n",
    "\n",
    "svm.test_pred(test, 10, True)"
   ]
  },
  {
   "cell_type": "code",
   "execution_count": null,
   "metadata": {},
   "outputs": [],
   "source": [
    "logistic = BootstrapModel(x_train, y_train, StandardScaler(), LogisticRegression(solver='liblinear'), roc_auc_score, random_state=42)\n",
    "\n",
    "model_save_path = '../model_save/.pkl'\n",
    "logistic.bstrap_models_dict = joblib.load(model_save_path)\n",
    "\n",
    "logistic.test_pred(test, 10, True)"
   ]
  },
  {
   "cell_type": "code",
   "execution_count": null,
   "metadata": {},
   "outputs": [],
   "source": [
    "knn = BootstrapModel(x_train, y_train, StandardScaler(), KNeighborsClassifier(), roc_auc_score, random_state=42)\n",
    "\n",
    "model_save_path = '../model_save/.pkl'\n",
    "knn.bstrap_models_dict = joblib.load(model_save_path)\n",
    "\n",
    "knn.test_pred(test, 10, True)"
   ]
  },
  {
   "cell_type": "code",
   "execution_count": null,
   "metadata": {},
   "outputs": [],
   "source": [
    "xgb = BootstrapModel(x_train, y_train, StandardScaler(), XGBClassifier(), roc_auc_score, random_state=42)\n",
    "\n",
    "model_save_path = '../model_save/.pkl'\n",
    "xgb.bstrap_models_dict = joblib.load(model_save_path)\n",
    "\n",
    "xgb.test_pred(test, 10, True)"
   ]
  },
  {
   "cell_type": "markdown",
   "metadata": {},
   "source": [
    "# アンサンブル"
   ]
  },
  {
   "cell_type": "markdown",
   "metadata": {},
   "source": [
    "最後に各モデルの推論値の平均をとって出力する"
   ]
  },
  {
   "cell_type": "code",
   "execution_count": null,
   "metadata": {},
   "outputs": [],
   "source": [
    "# ディレクトリ内のすべてのCSVファイルを読み込む\n",
    "submission_dir = '../submissions'\n",
    "csv_files = [f for f in os.listdir(submission_dir) if f.endswith('.csv')]\n",
    "\n",
    "# 各CSVファイルをデータフレームとして読み込み、リストに格納する\n",
    "dataframes = []\n",
    "for csv_file in csv_files:\n",
    "    df = pd.read_csv(os.path.join(submission_dir, csv_file), header=None)\n",
    "    dataframes.append(df)\n",
    "\n",
    "# すべてのデータフレームを足し合わせる\n",
    "sum_df = sum(dataframes)\n",
    "\n",
    "# 平均を計算\n",
    "ensemble_df = sum_df / len(dataframes)\n",
    "\n",
    "# 結果をensemble_pred.csvとして保存\n",
    "output_path = os.path.join(submission_dir, 'ensemble_pred.csv')\n",
    "ensemble_df.to_csv(output_path, index=False, header=False)\n",
    "\n",
    "print(f\"Ensemble predictions saved to {output_path}\")"
   ]
  },
  {
   "cell_type": "code",
   "execution_count": null,
   "metadata": {},
   "outputs": [],
   "source": []
  }
 ],
 "metadata": {
  "kernelspec": {
   "display_name": "myenv",
   "language": "python",
   "name": "python3"
  },
  "language_info": {
   "codemirror_mode": {
    "name": "ipython",
    "version": 3
   },
   "file_extension": ".py",
   "mimetype": "text/x-python",
   "name": "python",
   "nbconvert_exporter": "python",
   "pygments_lexer": "ipython3",
   "version": "3.12.4"
  }
 },
 "nbformat": 4,
 "nbformat_minor": 2
}
